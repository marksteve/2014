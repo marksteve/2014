{
 "metadata": {
  "name": "",
  "signature": "sha256:c3da51a42647231010d83ee3bccff1f84a996730f506917bc746db47e82e9de8"
 },
 "nbformat": 3,
 "nbformat_minor": 0,
 "worksheets": [
  {
   "cells": [
    {
     "cell_type": "markdown",
     "metadata": {},
     "source": [
      "# 2014\n",
      "\n",
      "I've already written a year-ender [blog post](blog.marksteve.com/2014) where I talked (wrote bullet points!) about the year in a personal perspective. But that wasn't very programmer-like so I decided to spend the remaining hours of this year (and possibly the first hours of next year) writing this iPython notebook of random stats about my online life. Enjoy!(?)\n",
      "\n",
      "*NOTE: I'm a `pandas` and `matplotlib` noob so if you see anything that doesn't look right, please let me know :)*"
     ]
    },
    {
     "cell_type": "code",
     "collapsed": false,
     "input": [
      "%matplotlib inline\n",
      "import pandas as pd\n",
      "from matplotlib import pyplot as plt"
     ],
     "language": "python",
     "metadata": {},
     "outputs": [],
     "prompt_number": 1
    },
    {
     "cell_type": "markdown",
     "metadata": {},
     "source": [
      "## Twitter\n",
      "\n",
      "I downloaded my Twitter archive to gather some information about what I tweeted about this year.\n",
      "\n",
      "Twitter conveniently supplies a `csv` file of your tweets when you request your archive."
     ]
    },
    {
     "cell_type": "code",
     "collapsed": false,
     "input": [
      "tweets = pd.read_csv(\"tweets.csv\")"
     ],
     "language": "python",
     "metadata": {},
     "outputs": [],
     "prompt_number": 2
    },
    {
     "cell_type": "markdown",
     "metadata": {},
     "source": [
      "First let's index my tweets by their timestamps."
     ]
    },
    {
     "cell_type": "code",
     "collapsed": false,
     "input": [
      "tweets.index = pd.to_datetime(tweets.get(\"timestamp\"))"
     ],
     "language": "python",
     "metadata": {},
     "outputs": [],
     "prompt_number": 3
    },
    {
     "cell_type": "markdown",
     "metadata": {},
     "source": [
      "So how many times did I tweet this year?"
     ]
    },
    {
     "cell_type": "code",
     "collapsed": false,
     "input": [
      "tweets_2014 = tweets[\"2014\"]\n",
      "len(tweets_2014)"
     ],
     "language": "python",
     "metadata": {},
     "outputs": [
      {
       "metadata": {},
       "output_type": "pyout",
       "prompt_number": 4,
       "text": [
        "1688"
       ]
      }
     ],
     "prompt_number": 4
    },
    {
     "cell_type": "markdown",
     "metadata": {},
     "source": [
      "How did that compare to the previous years I've been in Twitter?"
     ]
    },
    {
     "cell_type": "code",
     "collapsed": false,
     "input": [
      "tweets.groupby(tweets.index.year).size().plot(kind=\"bar\", color=\"dodgerblue\")"
     ],
     "language": "python",
     "metadata": {},
     "outputs": [
      {
       "metadata": {},
       "output_type": "pyout",
       "prompt_number": 5,
       "text": [
        "<matplotlib.axes._subplots.AxesSubplot at 0x104ea1110>"
       ]
      },
      {
       "metadata": {},
       "output_type": "display_data",
       "png": "[encoded data removed]",
       "text": [
        "<matplotlib.figure.Figure at 0x104e97a10>"
       ]
      }
     ],
     "prompt_number": 5
    },
    {
     "cell_type": "markdown",
     "metadata": {},
     "source": [
      "Now let's see if I've been naughty or nice!"
     ]
    },
    {
     "cell_type": "code",
     "collapsed": false,
     "input": [
      "# Took profanity word list from\n",
      "# https://gist.github.com/tjrobinson/2366772\n",
      "profanity = pd.read_csv(\"profanity.csv\", header=None)\n",
      "tweets_2014.text.str.lower().apply(\n",
      "    lambda x: profanity[0].apply(\n",
      "        lambda y: y in x\n",
      "    ).any()\n",
      ").value_counts().plot(\n",
      "    kind=\"pie\",\n",
      "    figsize=(5, 5),\n",
      "    autopct=\"%.2f%%\",\n",
      "    cmap=\"spring\",\n",
      "    labels=[\"Non-profanity\", \"Profanity\"],\n",
      ")"
     ],
     "language": "python",
     "metadata": {},
     "outputs": [
      {
       "metadata": {},
       "output_type": "pyout",
       "prompt_number": 6,
       "text": [
        "<matplotlib.axes._subplots.AxesSubplot at 0x104ed1890>"
       ]
      },
      {
       "metadata": {},
       "output_type": "display_data",
       "png": "[encoded data removed]",
       "text": [
        "<matplotlib.figure.Figure at 0x104ed1f90>"
       ]
      }
     ],
     "prompt_number": 6
    },
    {
     "cell_type": "markdown",
     "metadata": {},
     "source": [
      "How about the most common words I've tweeted this year?"
     ]
    },
    {
     "cell_type": "code",
     "collapsed": false,
     "input": [
      "words = pd.Series(\" \".join(\n",
      "    tweets_2014.text\n",
      "    .str.lower()\n",
      "    .str.replace(\"[^@a-z ]\", \"\")\n",
      "    .values,\n",
      ").split())"
     ],
     "language": "python",
     "metadata": {},
     "outputs": [],
     "prompt_number": 7
    },
    {
     "cell_type": "markdown",
     "metadata": {},
     "source": [
      "I've ignored words shorter than 4 chars and prefixed with @ or http. Here's the top 10."
     ]
    },
    {
     "cell_type": "code",
     "collapsed": false,
     "input": [
      "words.apply(\n",
      "    lambda x: None if (\n",
      "        len(x) <= 4 or\n",
      "        x.startswith(\"@\") or\n",
      "        x.startswith(\"http\")\n",
      "    ) else x\n",
      ").value_counts().head(10)"
     ],
     "language": "python",
     "metadata": {},
     "outputs": [
      {
       "metadata": {},
       "output_type": "pyout",
       "prompt_number": 8,
       "text": [
        "about      35\n",
        "docker     27\n",
        "first      27\n",
        "hahaha     26\n",
        "getting    24\n",
        "still      23\n",
        "today      22\n",
        "didnt      21\n",
        "awesome    21\n",
        "thanks     21\n",
        "dtype: int64"
       ]
      }
     ],
     "prompt_number": 8
    },
    {
     "cell_type": "markdown",
     "metadata": {},
     "source": [
      "Much *docker*.\n",
      "\n",
      "How about the people I've interacted with?"
     ]
    },
    {
     "cell_type": "code",
     "collapsed": false,
     "input": [
      "words.apply(\n",
      "    lambda x: x if x.startswith(\"@\") else None\n",
      ").value_counts().head(10)"
     ],
     "language": "python",
     "metadata": {},
     "outputs": [
      {
       "metadata": {},
       "output_type": "pyout",
       "prompt_number": 9,
       "text": [
        "@katpadi           203\n",
        "@dar               107\n",
        "@codemickeycode     46\n",
        "@stefsy             44\n",
        "@rukku              38\n",
        "@crivecodesmith     33\n",
        "@keikun             31\n",
        "@marconimjr         25\n",
        "@rstacruz           24\n",
        "@gretchgee          17\n",
        "dtype: int64"
       ]
      }
     ],
     "prompt_number": 9
    },
    {
     "cell_type": "markdown",
     "metadata": {},
     "source": [
      "Now let's try getting the sentiments of my tweets. This would be very innaccurate since (1) I don't always tweet in English, (2) I mostly post links and with incomplete sentences and (3) out of the box [sentiment analysis by TextBlob](http://textblob.readthedocs.org/en/dev/quickstart.html#sentiment-analysis) isn't perfect . But it's easy to do so why not?"
     ]
    },
    {
     "cell_type": "code",
     "collapsed": false,
     "input": [
      "from textblob import TextBlob\n",
      "\n",
      "def get_sentiment(s):\n",
      "    senti = TextBlob(s.decode('utf-8')).sentiment\n",
      "    return senti.polarity * (1 - senti.subjectivity) > 0\n",
      "\n",
      "tweets_2014.text.apply(get_sentiment).value_counts().plot(\n",
      "    kind=\"pie\",\n",
      "    figsize=(5, 5),\n",
      "    autopct=\"%.2f%%\",\n",
      "    cmap=\"autumn\",\n",
      "    labels=[\"Negative\", \"Positive\"],\n",
      ")"
     ],
     "language": "python",
     "metadata": {},
     "outputs": [
      {
       "metadata": {},
       "output_type": "pyout",
       "prompt_number": 10,
       "text": [
        "<matplotlib.axes._subplots.AxesSubplot at 0x1098d7750>"
       ]
      },
      {
       "metadata": {},
       "output_type": "display_data",
       "png": "[encoded data removed]",
       "text": [
        "<matplotlib.figure.Figure at 0x108b7af50>"
       ]
      }
     ],
     "prompt_number": 10
    },
    {
     "cell_type": "markdown",
     "metadata": {},
     "source": [
      "Yep, this pie chart is way off. I couldn't be that negative. Right? Right?!"
     ]
    },
    {
     "cell_type": "markdown",
     "metadata": {},
     "source": [
      "## Facebook\n",
      "\n",
      "Now let's move on to Facebook. I tried downloading my Facebook archive but they didn't provide `csv` files like Twitter did. They'll give you a huge zip containing all your photos and videos and a bunch of html files containing your posts and other interactions. I could parse the html files to get the data I wanted but that sounded really messy in my head so I looked at the [Graph API](https://developers.facebook.com/docs/graph-api/using-graph-api/v2.2). And sure enough it had endpoints for most of the things I needed.\n",
      "\n",
      "Facebook uses OAuth2 for authentication. I love OAuth2, it's easy to understand and its specs are quite well written. Facebook also provides a Graph API explorer that allows you to try out endpoints without creating your own application. I took advantage of this and used the access token it was using so I won't need to generate one and go through the trouble of creating my own Facebook application. I set the access token in my environment so I'd be able to access it here. Access tokens are like passwords that have a lifetime so never expose it to the public!"
     ]
    },
    {
     "cell_type": "code",
     "collapsed": false,
     "input": [
      "import os\n",
      "fb_access_token = os.environ[\"FB_ACCESS_TOKEN\"]"
     ],
     "language": "python",
     "metadata": {},
     "outputs": [],
     "prompt_number": 11
    },
    {
     "cell_type": "markdown",
     "metadata": {},
     "source": [
      "I'll be using [requests](http://docs.python-requests.org/en/latest/) to, well, do my requests :P"
     ]
    },
    {
     "cell_type": "code",
     "collapsed": false,
     "input": [
      "from requests import Session\n",
      "\n",
      "fb = Session()\n",
      "fb.params = dict(access_token=fb_access_token)\n",
      "\n",
      "GRAPH_URL = \"https://graph.facebook.com/v2.2/\"\n",
      "\n",
      "res = fb.get(GRAPH_URL + \"me\")\n",
      "res.json()[\"name\"]"
     ],
     "language": "python",
     "metadata": {},
     "outputs": [
      {
       "metadata": {},
       "output_type": "pyout",
       "prompt_number": 12,
       "text": [
        "u'Mark Steve Samson'"
       ]
      }
     ],
     "prompt_number": 12
    },
    {
     "cell_type": "markdown",
     "metadata": {},
     "source": [
      "That's me! Looking good.\n",
      "\n",
      "Now let's try getting my feed entries and dump it to a `csv` file."
     ]
    },
    {
     "cell_type": "code",
     "collapsed": false,
     "input": [
      "from IPython.core.display import HTML\n",
      "\n",
      "def css_styling():\n",
      "    with open(\"styles.css\") as f:\n",
      "        return HTML(\"<style>%s</style>\" % f.read())\n",
      "css_styling()"
     ],
     "language": "python",
     "metadata": {},
     "outputs": [
      {
       "html": [
        "<style>@import url(\"//fonts.googleapis.com/css?family=Inconsolata:400,700|Abril+Fatface|Karla:400,400italic,700,700italic\");\n",
        "\n",
        ".menu-icon {\n",
        "  line-height: 20px;\n",
        "  position: static;\n",
        "  font-size: 20px !important;\n",
        "}\n",
        "\n",
        ".container {\n",
        "  font: 18px/1.5 Karla, sans-serif;\n",
        "  max-width: 40em;\n",
        "}\n",
        "\n",
        "h1, h2, h3, h4, h5, h6 {\n",
        "  font-family: Abril Fatface, serif;\n",
        "}\n",
        "\n",
        "h1 {\n",
        "  font-size: 400% !important;\n",
        "}\n",
        "\n",
        "pre, code {\n",
        "  font-family: Inconsolata, monospace !important;\n",
        "}\n",
        "</style>"
       ],
       "metadata": {},
       "output_type": "pyout",
       "prompt_number": 13,
       "text": [
        "<IPython.core.display.HTML at 0x1097bf9d0>"
       ]
      }
     ],
     "prompt_number": 13
    }
   ],
   "metadata": {}
  }
 ]
}