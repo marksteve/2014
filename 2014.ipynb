{
 "metadata": {
  "name": "",
  "signature": "sha256:f8f402324612e2ca631922f7645ed72114761ef648272170f18ec8996bc928e8"
 },
 "nbformat": 3,
 "nbformat_minor": 0,
 "worksheets": [
  {
   "cells": [
    {
     "cell_type": "markdown",
     "metadata": {},
     "source": [
      "# 2014\n",
      "\n",
      "I've already written a year-ender [blog post](blog.marksteve.com/2014) where I talked (wrote bullet points!) about the year in a personal perspective. But that wasn't very programmer-like so I decided to spend the remaining hours of this year (and possibly the first hours of next year) writing this iPython notebook of random stats about my online life. Enjoy!(?)\n",
      "\n",
      "*NOTE: I'm a `pandas` and `matplotlib` noob so if you see anything that doesn't look right, please let me know :)*"
     ]
    },
    {
     "cell_type": "code",
     "collapsed": false,
     "input": [
      "%matplotlib inline\n",
      "import pandas as pd\n",
      "from matplotlib import pyplot as plt"
     ],
     "language": "python",
     "metadata": {},
     "outputs": [],
     "prompt_number": 1
    },
    {
     "cell_type": "markdown",
     "metadata": {},
     "source": [
      "## Twitter\n",
      "\n",
      "I downloaded my Twitter archive to gather some information about what I tweeted about this year.\n",
      "\n",
      "Twitter conveniently supplies a `csv` file of your tweets when you request your archive."
     ]
    },
    {
     "cell_type": "code",
     "collapsed": false,
     "input": [
      "tweets = pd.read_csv(\"tweets.csv\")"
     ],
     "language": "python",
     "metadata": {},
     "outputs": [],
     "prompt_number": 2
    },
    {
     "cell_type": "markdown",
     "metadata": {},
     "source": [
      "First let's index my tweets by their timestamps."
     ]
    },
    {
     "cell_type": "code",
     "collapsed": false,
     "input": [
      "tweets.index = pd.to_datetime(tweets.get(\"timestamp\"))"
     ],
     "language": "python",
     "metadata": {},
     "outputs": [],
     "prompt_number": 3
    },
    {
     "cell_type": "markdown",
     "metadata": {},
     "source": [
      "So how many times did I tweet this year?"
     ]
    },
    {
     "cell_type": "code",
     "collapsed": false,
     "input": [
      "tweets_2014 = tweets[\"2014\"]\n",
      "len(tweets_2014)"
     ],
     "language": "python",
     "metadata": {},
     "outputs": [
      {
       "metadata": {},
       "output_type": "pyout",
       "prompt_number": 4,
       "text": [
        "1688"
       ]
      }
     ],
     "prompt_number": 4
    },
    {
     "cell_type": "markdown",
     "metadata": {},
     "source": [
      "How did that compare to the previous years I've been in Twitter?"
     ]
    },
    {
     "cell_type": "code",
     "collapsed": false,
     "input": [
      "tweets.groupby(tweets.index.year).size().plot(kind=\"bar\", color=\"dodgerblue\")"
     ],
     "language": "python",
     "metadata": {},
     "outputs": [
      {
       "metadata": {},
       "output_type": "pyout",
       "prompt_number": 5,
       "text": [
        "<matplotlib.axes._subplots.AxesSubplot at 0x104c6a110>"
       ]
      },
      {
       "metadata": {},
       "output_type": "display_data",
       "png": "[encoded data removed]",
       "text": [
        "<matplotlib.figure.Figure at 0x104c5ea90>"
       ]
      }
     ],
     "prompt_number": 5
    },
    {
     "cell_type": "markdown",
     "metadata": {},
     "source": [
      "Now let's see if I've been naughty or nice!"
     ]
    },
    {
     "cell_type": "code",
     "collapsed": false,
     "input": [
      "# Took profanity word list from\n",
      "# https://gist.github.com/tjrobinson/2366772\n",
      "profanity = pd.read_csv(\"profanity.csv\", header=None)\n",
      "tweets_2014.text.str.lower().apply(\n",
      "    lambda x: profanity[0].apply(\n",
      "        lambda y: y in x\n",
      "    ).any()\n",
      ").value_counts().plot(\n",
      "    kind=\"pie\",\n",
      "    figsize=(5, 5),\n",
      "    autopct=\"%.2f%%\",\n",
      "    cmap=\"rainbow\",\n",
      "    labels=[\"Non-profanity\", \"Profanity\"],\n",
      ")"
     ],
     "language": "python",
     "metadata": {},
     "outputs": [
      {
       "metadata": {},
       "output_type": "pyout",
       "prompt_number": 6,
       "text": [
        "<matplotlib.axes._subplots.AxesSubplot at 0x104c99890>"
       ]
      },
      {
       "metadata": {},
       "output_type": "display_data",
       "png": "[encoded data removed]",
       "text": [
        "<matplotlib.figure.Figure at 0x104c99f90>"
       ]
      }
     ],
     "prompt_number": 6
    },
    {
     "cell_type": "markdown",
     "metadata": {},
     "source": [
      "How about the most common words I've tweeted this year?"
     ]
    },
    {
     "cell_type": "code",
     "collapsed": false,
     "input": [
      "words = pd.Series(\" \".join(\n",
      "    tweets_2014.text\n",
      "    .str.lower()\n",
      "    .str.replace(\"[^@a-z ]\", \"\")\n",
      "    .values,\n",
      ").split())"
     ],
     "language": "python",
     "metadata": {},
     "outputs": [],
     "prompt_number": 7
    },
    {
     "cell_type": "markdown",
     "metadata": {},
     "source": [
      "I've ignored words shorter than 4 chars and prefixed with @ or http. Here's the top 10."
     ]
    },
    {
     "cell_type": "code",
     "collapsed": false,
     "input": [
      "words.apply(\n",
      "    lambda x: None if (\n",
      "        len(x) <= 4 or\n",
      "        x.startswith(\"@\") or\n",
      "        x.startswith(\"http\")\n",
      "    ) else x\n",
      ").value_counts().head(10)"
     ],
     "language": "python",
     "metadata": {},
     "outputs": [
      {
       "metadata": {},
       "output_type": "pyout",
       "prompt_number": 8,
       "text": [
        "about      35\n",
        "docker     27\n",
        "first      27\n",
        "hahaha     26\n",
        "getting    24\n",
        "still      23\n",
        "today      22\n",
        "didnt      21\n",
        "awesome    21\n",
        "thanks     21\n",
        "dtype: int64"
       ]
      }
     ],
     "prompt_number": 8
    },
    {
     "cell_type": "markdown",
     "metadata": {},
     "source": [
      "Much *docker*.\n",
      "\n",
      "How about the people I've interacted with?"
     ]
    },
    {
     "cell_type": "code",
     "collapsed": false,
     "input": [
      "words.apply(\n",
      "    lambda x: x if x.startswith(\"@\") else None\n",
      ").value_counts().head(10)"
     ],
     "language": "python",
     "metadata": {},
     "outputs": [
      {
       "metadata": {},
       "output_type": "pyout",
       "prompt_number": 9,
       "text": [
        "@katpadi           203\n",
        "@dar               107\n",
        "@codemickeycode     46\n",
        "@stefsy             44\n",
        "@rukku              38\n",
        "@crivecodesmith     33\n",
        "@keikun             31\n",
        "@marconimjr         25\n",
        "@rstacruz           24\n",
        "@gretchgee          17\n",
        "dtype: int64"
       ]
      }
     ],
     "prompt_number": 9
    },
    {
     "cell_type": "markdown",
     "metadata": {},
     "source": [
      "Now let's try getting the sentiments of my tweets. This would be very innaccurate since (1) I don't always tweet in English, (2) I mostly post links and with incomplete sentences and (3) out of the box [sentiment analysis by TextBlob](http://textblob.readthedocs.org/en/dev/quickstart.html#sentiment-analysis) isn't perfect . But it's easy to do so why not?"
     ]
    },
    {
     "cell_type": "code",
     "collapsed": false,
     "input": [
      "from textblob import TextBlob\n",
      "\n",
      "def get_sentiment(s):\n",
      "    senti = TextBlob(s.decode('utf-8')).sentiment\n",
      "    return senti.polarity * (1 - senti.subjectivity) > 0\n",
      "\n",
      "tweets_2014.text.apply(get_sentiment).value_counts().plot(\n",
      "    kind=\"pie\",\n",
      "    figsize=(5, 5),\n",
      "    autopct=\"%.2f%%\",\n",
      "    cmap=\"rainbow\",\n",
      "    labels=[\"Negative\", \"Positive\"],\n",
      ")"
     ],
     "language": "python",
     "metadata": {},
     "outputs": [
      {
       "metadata": {},
       "output_type": "pyout",
       "prompt_number": 10,
       "text": [
        "<matplotlib.axes._subplots.AxesSubplot at 0x10969e750>"
       ]
      },
      {
       "metadata": {},
       "output_type": "display_data",
       "png": "[encoded data removed]",
       "text": [
        "<matplotlib.figure.Figure at 0x104354c10>"
       ]
      }
     ],
     "prompt_number": 10
    },
    {
     "cell_type": "markdown",
     "metadata": {},
     "source": [
      "Yep, this pie chart is way off. I couldn't be that negative. Right? Right?!"
     ]
    },
    {
     "cell_type": "markdown",
     "metadata": {},
     "source": [
      "## Facebook\n",
      "\n",
      "Now let's move on to Facebook. I tried downloading my Facebook archive but they didn't provide `csv` files like Twitter did. They'll give you a huge zip containing all your photos and videos and a bunch of html files containing your posts and other interactions. I could parse the html files to get the data I wanted but that sounded really messy in my head so I looked at the [Graph API](https://developers.facebook.com/docs/graph-api/using-graph-api/v2.2). And sure enough it had endpoints for most of the things I needed.\n",
      "\n",
      "Facebook uses OAuth2 for authentication. I love OAuth2, it's easy to understand and its specs are quite well written. Facebook also provides a Graph API explorer that allows you to try out endpoints without creating your own application. I took advantage of this and used the access token it was using so I won't need to generate one and go through the trouble of creating my own Facebook application. I set the access token in my environment so I'd be able to access it here. Access tokens are like passwords that have a lifetime so never expose it to the public!"
     ]
    },
    {
     "cell_type": "code",
     "collapsed": false,
     "input": [
      "import os\n",
      "fb_access_token = os.environ[\"FB_ACCESS_TOKEN\"]"
     ],
     "language": "python",
     "metadata": {},
     "outputs": [],
     "prompt_number": 11
    },
    {
     "cell_type": "markdown",
     "metadata": {},
     "source": [
      "I'll be using [requests](http://docs.python-requests.org/en/latest/) to, well, do my requests :P"
     ]
    },
    {
     "cell_type": "code",
     "collapsed": false,
     "input": [
      "from requests import Session\n",
      "\n",
      "fb = Session()\n",
      "fb.headers.update(Authorization=\"Bearer \" + fb_access_token)\n",
      "\n",
      "GRAPH_URL = \"https://graph.facebook.com/v2.2/\"\n",
      "\n",
      "res = fb.get(GRAPH_URL + \"me\")\n",
      "res.json()[\"name\"]"
     ],
     "language": "python",
     "metadata": {},
     "outputs": [
      {
       "metadata": {},
       "output_type": "pyout",
       "prompt_number": 12,
       "text": [
        "u'Mark Steve Samson'"
       ]
      }
     ],
     "prompt_number": 12
    },
    {
     "cell_type": "markdown",
     "metadata": {},
     "source": [
      "That's me! Looking good.\n",
      "\n",
      "Now let's try getting my posts. We query the `/me/posts` endpoint specifying `since` and `until` params to within the year 2014."
     ]
    },
    {
     "cell_type": "code",
     "collapsed": false,
     "input": [
      "from datetime import datetime\n",
      "import time\n",
      "start = int(time.mktime(datetime(2014, 1, 1).timetuple()))\n",
      "end = int(time.mktime(datetime(2015, 1, 1).timetuple()))\n",
      "start, end"
     ],
     "language": "python",
     "metadata": {},
     "outputs": [
      {
       "metadata": {},
       "output_type": "pyout",
       "prompt_number": 13,
       "text": [
        "(1388505600, 1420041600)"
       ]
      }
     ],
     "prompt_number": 13
    },
    {
     "cell_type": "code",
     "collapsed": false,
     "input": [
      "res = fb.get(GRAPH_URL + \"me/posts\", params=dict(\n",
      "    since=start,\n",
      "    until=end,\n",
      "))\n",
      "posts = []\n",
      "curr = res.json()\n",
      "while \"paging\" in curr:\n",
      "    posts.extend(curr[\"data\"])\n",
      "    # Note how I set `since` here.\n",
      "    # FB gives next links that lose the original scope :/\n",
      "    curr = fb.get(curr[\"paging\"][\"next\"], params=dict(\n",
      "        since=start,\n",
      "    )).json()\n",
      "len(posts)"
     ],
     "language": "python",
     "metadata": {},
     "outputs": [
      {
       "metadata": {},
       "output_type": "pyout",
       "prompt_number": 14,
       "text": [
        "513"
       ]
      }
     ],
     "prompt_number": 14
    },
    {
     "cell_type": "markdown",
     "metadata": {},
     "source": [
      "I've been obviously tweeting more than posting in Facebook. Let's turn the `posts` list into a `DataFrame` so we can analyze it better."
     ]
    },
    {
     "cell_type": "code",
     "collapsed": false,
     "input": [
      "posts = pd.DataFrame(posts)"
     ],
     "language": "python",
     "metadata": {},
     "outputs": [],
     "prompt_number": 15
    },
    {
     "cell_type": "markdown",
     "metadata": {},
     "source": [
      "So what data can we play with?"
     ]
    },
    {
     "cell_type": "code",
     "collapsed": false,
     "input": [
      "posts.columns"
     ],
     "language": "python",
     "metadata": {},
     "outputs": [
      {
       "metadata": {},
       "output_type": "pyout",
       "prompt_number": 16,
       "text": [
        "Index([u'actions', u'application', u'caption', u'comments', u'created_time', u'description', u'from', u'height', u'icon', u'id', u'likes', u'link', u'message', u'message_tags', u'name', u'object_id', u'picture', u'place', u'privacy', u'properties', u'shares', u'source', u'status_type', u'story', u'story_tags', u'to', u'type', u'updated_time', u'width', u'with_tags'], dtype='object')"
       ]
      }
     ],
     "prompt_number": 16
    },
    {
     "cell_type": "markdown",
     "metadata": {},
     "source": [
      "Let's go alphabetical and first check which apps I've been posting in Facebook with."
     ]
    },
    {
     "cell_type": "code",
     "collapsed": false,
     "input": [
      "posts.application.apply(\n",
      "    lambda x: x[\"name\"] if isinstance(x, dict) else \"Web\"\n",
      ").value_counts()"
     ],
     "language": "python",
     "metadata": {},
     "outputs": [
      {
       "metadata": {},
       "output_type": "pyout",
       "prompt_number": 17,
       "text": [
        "Web                            344\n",
        "Photos                          38\n",
        "Facebook for Android            36\n",
        "Facebook for iPhone             24\n",
        "Pages                           24\n",
        "Links                           12\n",
        "Buffer                           9\n",
        "Twitter                          5\n",
        "iOS                              5\n",
        "Spotify                          4\n",
        "Mobile                           3\n",
        "Facebook Groups for Android      3\n",
        "Instagram                        1\n",
        "Facebook for iPad                1\n",
        "Steam                            1\n",
        "Foursquare                       1\n",
        "YouTube                          1\n",
        "SoundCloud                       1\n",
        "dtype: int64"
       ]
      }
     ],
     "prompt_number": 17
    },
    {
     "cell_type": "markdown",
     "metadata": {},
     "source": [
      "How many comments have my posts been getting?"
     ]
    },
    {
     "cell_type": "code",
     "collapsed": false,
     "input": [
      "posts.comments.apply(\n",
      "    lambda x: len(x[\"data\"]) if isinstance(x, dict) else 0\n",
      ").describe()"
     ],
     "language": "python",
     "metadata": {},
     "outputs": [
      {
       "metadata": {},
       "output_type": "pyout",
       "prompt_number": 18,
       "text": [
        "count    513.000000\n",
        "mean       0.861598\n",
        "std        2.613507\n",
        "min        0.000000\n",
        "25%        0.000000\n",
        "50%        0.000000\n",
        "75%        0.000000\n",
        "max       25.000000\n",
        "Name: comments, dtype: float64"
       ]
      }
     ],
     "prompt_number": 18
    },
    {
     "cell_type": "markdown",
     "metadata": {},
     "source": [
      "How about likes?"
     ]
    },
    {
     "cell_type": "code",
     "collapsed": false,
     "input": [
      "posts.likes.apply(\n",
      "    lambda x: len(x[\"data\"]) if isinstance(x, dict) else 0\n",
      ").describe()"
     ],
     "language": "python",
     "metadata": {},
     "outputs": [
      {
       "metadata": {},
       "output_type": "pyout",
       "prompt_number": 19,
       "text": [
        "count    513.000000\n",
        "mean       2.204678\n",
        "std        5.051591\n",
        "min        0.000000\n",
        "25%        0.000000\n",
        "50%        0.000000\n",
        "75%        2.000000\n",
        "max       25.000000\n",
        "Name: likes, dtype: float64"
       ]
      }
     ],
     "prompt_number": 19
    },
    {
     "cell_type": "markdown",
     "metadata": {},
     "source": [
      "Oops! Something looks wrong. You'll notice it says I have 25 likes max. But that's not quite right. I remember a few instances where my post had more than 25 likes. Seems like `comments` and `likes` are paged as well. There are pagination cursors within those objects so that confirms my hunch. Wish they provided the counts instead. We can query the missing data and recreate our dataframe but I'm feeling lazy :P"
     ]
    },
    {
     "cell_type": "markdown",
     "metadata": {},
     "source": [
      "I won't analyze my post messages anymore as I've done that similarly with my tweets already.\n",
      "\n",
      "Instead, let's check where have I been posting in Facebook from."
     ]
    },
    {
     "cell_type": "code",
     "collapsed": false,
     "input": [
      "posts.place.apply(\n",
      "    lambda x: x[\"name\"] if isinstance(x, dict) else None\n",
      ").value_counts()"
     ],
     "language": "python",
     "metadata": {},
     "outputs": [
      {
       "metadata": {},
       "output_type": "pyout",
       "prompt_number": 20,
       "text": [
        "Bacolod, Philippines              2\n",
        "Zambales, Philippines             1\n",
        "Ho Chi Minh City, Vietnam         1\n",
        "Taoyuan International Airport     1\n",
        "Route 196 Bar                     1\n",
        "Brgy. San Jose Montalban Rizal    1\n",
        "dtype: int64"
       ]
      }
     ],
     "prompt_number": 20
    },
    {
     "cell_type": "markdown",
     "metadata": {},
     "source": [
      "Next one is interesting. Which privacy settings have I been using when posting?"
     ]
    },
    {
     "cell_type": "code",
     "collapsed": false,
     "input": [
      "posts.privacy.apply(\n",
      "    lambda x: (\n",
      "        x[\"value\"].title().replace(\"_\", \" \")\n",
      "        if x[\"value\"] else \"Default\"\n",
      "    )\n",
      ").value_counts().plot(\n",
      "    kind=\"pie\",\n",
      "    figsize=(5, 5),\n",
      "    autopct=\"%.2f%%\",\n",
      "    cmap=\"rainbow\",\n",
      ")"
     ],
     "language": "python",
     "metadata": {},
     "outputs": [
      {
       "metadata": {},
       "output_type": "pyout",
       "prompt_number": 21,
       "text": [
        "<matplotlib.axes._subplots.AxesSubplot at 0x109bb9890>"
       ]
      },
      {
       "metadata": {},
       "output_type": "display_data",
       "png": "[encoded data removed]",
       "text": [
        "<matplotlib.figure.Figure at 0x109560410>"
       ]
      }
     ],
     "prompt_number": 21
    },
    {
     "cell_type": "markdown",
     "metadata": {},
     "source": [
      "I think *Default* is *All Friends* so I'm quite not sure :P\n",
      "\n",
      "Now how many times have people shared my posts?"
     ]
    },
    {
     "cell_type": "code",
     "collapsed": false,
     "input": [
      "posts.shares.apply(\n",
      "    lambda x: x[\"count\"] if isinstance(x, dict) else 0\n",
      ").sum()"
     ],
     "language": "python",
     "metadata": {},
     "outputs": [
      {
       "metadata": {},
       "output_type": "pyout",
       "prompt_number": 22,
       "text": [
        "26"
       ]
      }
     ],
     "prompt_number": 22
    },
    {
     "cell_type": "markdown",
     "metadata": {},
     "source": [
      "Another interesting thing: Seems that some events like approving friend requests and tags are included in my \"posts\" as statuses."
     ]
    },
    {
     "cell_type": "code",
     "collapsed": false,
     "input": [
      "posts.status_type.value_counts()"
     ],
     "language": "python",
     "metadata": {},
     "outputs": [
      {
       "metadata": {},
       "output_type": "pyout",
       "prompt_number": 23,
       "text": [
        "shared_story            85\n",
        "approved_friend         63\n",
        "mobile_status_update    52\n",
        "added_photos            36\n",
        "wall_post               34\n",
        "tagged_in_photo         27\n",
        "app_created_story        2\n",
        "added_video              1\n",
        "dtype: int64"
       ]
      }
     ],
     "prompt_number": 23
    },
    {
     "cell_type": "markdown",
     "metadata": {},
     "source": [
      "I guess this invalidates my posts count. At least `approved_friend` and `tagged_in_photo` shouldn't be counted. I'm not sure if `wall_post` means a friend who posted on my wall or vice versa.\n",
      "\n",
      "Now let's look at the types of posts I've been posting."
     ]
    },
    {
     "cell_type": "code",
     "collapsed": false,
     "input": [
      "posts.type.value_counts().plot(\n",
      "    kind=\"pie\",\n",
      "    figsize=(5, 5),\n",
      "    autopct=\"%.2f%%\",\n",
      "    cmap=\"rainbow\",\n",
      ")"
     ],
     "language": "python",
     "metadata": {},
     "outputs": [
      {
       "metadata": {},
       "output_type": "pyout",
       "prompt_number": 24,
       "text": [
        "<matplotlib.axes._subplots.AxesSubplot at 0x1097a14d0>"
       ]
      },
      {
       "metadata": {},
       "output_type": "display_data",
       "png": "[encoded data removed]",
       "text": [
        "<matplotlib.figure.Figure at 0x109907610>"
       ]
      }
     ],
     "prompt_number": 24
    },
    {
     "cell_type": "markdown",
     "metadata": {},
     "source": [
      "Status includes the events we saw earlier so that adds some chunk to skew this pie chart but I'm lazy to fix it :P\n",
      "\n",
      "## Github\n",
      "To be continued..."
     ]
    },
    {
     "cell_type": "code",
     "collapsed": false,
     "input": [
      "from IPython.core.display import HTML\n",
      "\n",
      "def css_styling():\n",
      "    with open(\"styles.css\") as f:\n",
      "        return HTML(\"<style>%s</style>\" % f.read())\n",
      "css_styling()"
     ],
     "language": "python",
     "metadata": {},
     "outputs": [
      {
       "html": [
        "<style>@import url(\"//fonts.googleapis.com/css?family=Inconsolata:400,700|Abril+Fatface|Karla:400,400italic,700,700italic\");\n",
        "\n",
        ".menu-icon {\n",
        "  line-height: 20px;\n",
        "  position: static;\n",
        "  font-size: 20px !important;\n",
        "}\n",
        "\n",
        ".container {\n",
        "  font: 18px/1.5 Karla, sans-serif;\n",
        "  max-width: 40em;\n",
        "}\n",
        "\n",
        "h1, h2, h3, h4, h5, h6 {\n",
        "  font-family: Abril Fatface, serif;\n",
        "}\n",
        "\n",
        "h1 {\n",
        "  font-size: 400% !important;\n",
        "}\n",
        "\n",
        "pre, code {\n",
        "  font-family: Inconsolata, monospace !important;\n",
        "}\n",
        "</style>"
       ],
       "metadata": {},
       "output_type": "pyout",
       "prompt_number": 25,
       "text": [
        "<IPython.core.display.HTML at 0x109c68d10>"
       ]
      }
     ],
     "prompt_number": 25
    }
   ],
   "metadata": {}
  }
 ]
}