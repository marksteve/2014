{
 "metadata": {
  "name": "",
  "signature": "sha256:a5ebd5342135e7187161ae59eda3143206b6077ddf27b611b706de7229303e68"
 },
 "nbformat": 3,
 "nbformat_minor": 0,
 "worksheets": [
  {
   "cells": [
    {
     "cell_type": "markdown",
     "metadata": {},
     "source": [
      "# 2014\n",
      "\n",
      "I've already written a year-ender [blog post](blog.marksteve.com/2014) where I talked (wrote bullet points!) about the year in a personal perspective. But that wasn't very programmer-like so I decided to spend the remaining hours of this year by writing an iPython notebook of random stats about my online life. Enjoy!(?)"
     ]
    },
    {
     "cell_type": "code",
     "collapsed": false,
     "input": [
      "%matplotlib inline\n",
      "import requests\n",
      "import pandas as pd\n",
      "from matplotlib import pyplot as plt\n",
      "from textblob import TextBlob\n",
      "from requests_oauthlib import OAuth2Session"
     ],
     "language": "python",
     "metadata": {},
     "outputs": [],
     "prompt_number": 1
    },
    {
     "cell_type": "markdown",
     "metadata": {},
     "source": [
      "## Twitter\n",
      "\n",
      "I downloaded my Twitter archive to gather some information about what I posted in Twitter this year.\n",
      "\n",
      "Twitter conveniently supplies a `csv` file of your tweets when you request your archive."
     ]
    },
    {
     "cell_type": "code",
     "collapsed": false,
     "input": [
      "tweets = pd.read_csv(\"tweets.csv\")"
     ],
     "language": "python",
     "metadata": {},
     "outputs": [],
     "prompt_number": 2
    },
    {
     "cell_type": "markdown",
     "metadata": {},
     "source": [
      "First let's index my tweets by their timestamps."
     ]
    },
    {
     "cell_type": "code",
     "collapsed": false,
     "input": [
      "tweets.index = pd.to_datetime(tweets.get(\"timestamp\"))"
     ],
     "language": "python",
     "metadata": {},
     "outputs": [],
     "prompt_number": 3
    },
    {
     "cell_type": "markdown",
     "metadata": {},
     "source": [
      "So how many times did I tweet this year?"
     ]
    },
    {
     "cell_type": "code",
     "collapsed": false,
     "input": [
      "len(tweets[\"2014\"])"
     ],
     "language": "python",
     "metadata": {},
     "outputs": [
      {
       "metadata": {},
       "output_type": "pyout",
       "prompt_number": 4,
       "text": [
        "1644"
       ]
      }
     ],
     "prompt_number": 4
    },
    {
     "cell_type": "markdown",
     "metadata": {},
     "source": [
      "How did that compare to the previous years I've been in Twitter?"
     ]
    },
    {
     "cell_type": "code",
     "collapsed": false,
     "input": [
      "tweets.groupby(tweets.index.year).size().plot(kind=\"bar\", color=\"dodgerblue\")"
     ],
     "language": "python",
     "metadata": {},
     "outputs": [
      {
       "metadata": {},
       "output_type": "pyout",
       "prompt_number": 5,
       "text": [
        "<matplotlib.axes._subplots.AxesSubplot at 0x106e8ea90>"
       ]
      },
      {
       "metadata": {},
       "output_type": "display_data",
       "png": "[encoded data removed]",
       "text": [
        "<matplotlib.figure.Figure at 0x106e8e5d0>"
       ]
      }
     ],
     "prompt_number": 5
    },
    {
     "cell_type": "code",
     "collapsed": false,
     "input": [],
     "language": "python",
     "metadata": {},
     "outputs": [],
     "prompt_number": 5
    },
    {
     "cell_type": "code",
     "collapsed": false,
     "input": [],
     "language": "python",
     "metadata": {},
     "outputs": []
    }
   ],
   "metadata": {}
  }
 ]
}