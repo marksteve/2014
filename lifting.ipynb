{
 "metadata": {
  "name": "",
  "signature": "sha256:78e1d74b9b9d5fa56e28381033518412902318ca7f738a48f00d6c6ba47ac5b0"
 },
 "nbformat": 3,
 "nbformat_minor": 0,
 "worksheets": [
  {
   "cells": [
    {
     "cell_type": "markdown",
     "metadata": {},
     "source": [
      "# Lifting\n",
      "\n",
      "Late last year, a colleague of ours started pushing us to do regular workouts using a relatively simple program. We've tried lifting before but it's only this time that we've been very disciplined about it. I managed to increase PRs every month and started feeling very good about myself! Here I'll try to extract our workouts' info from Fitocracy and see what I can make out of the data."
     ]
    },
    {
     "cell_type": "code",
     "collapsed": false,
     "input": [
      "%matplotlib inline\n",
      "import pandas as pd\n",
      "from matplotlib import pyplot as plt"
     ],
     "language": "python",
     "metadata": {},
     "outputs": [],
     "prompt_number": 1
    },
    {
     "cell_type": "code",
     "collapsed": true,
     "input": [
      "import os\n",
      "import requests\n",
      "\n",
      "fitocracy = requests.Session()\n",
      "fitocracy.headers.update({'Cookie': os.environ['FITOCRACY_COOKIE']})\n",
      "\n",
      "FC_API_ROOT = 'https://www.fitocracy.com/api/v2'"
     ],
     "language": "python",
     "metadata": {},
     "outputs": [],
     "prompt_number": 2
    },
    {
     "cell_type": "markdown",
     "metadata": {},
     "source": [
      "## Exercises\n",
      "\n",
      "First, I'll get all Fitocracy exercises for reference later."
     ]
    },
    {
     "cell_type": "code",
     "collapsed": false,
     "input": [
      "resp = fitocracy.get(FC_API_ROOT + '/exercises').json()"
     ],
     "language": "python",
     "metadata": {},
     "outputs": [],
     "prompt_number": 5
    },
    {
     "cell_type": "code",
     "collapsed": false,
     "input": [
      "exercises = pd.DataFrame(resp['data'])"
     ],
     "language": "python",
     "metadata": {},
     "outputs": [],
     "prompt_number": 6
    },
    {
     "cell_type": "code",
     "collapsed": false,
     "input": [
      "exercises['name']"
     ],
     "language": "python",
     "metadata": {},
     "outputs": [
      {
       "metadata": {},
       "output_type": "pyout",
       "prompt_number": 7,
       "text": [
        "0                 Barbell Bench Press\n",
        "1                       Barbell Squat\n",
        "2                    Barbell Deadlift\n",
        "3                   Machine Ab Crunch\n",
        "4                   Barbell Side Bend\n",
        "5                        Cable Crunch\n",
        "6                              Crunch\n",
        "7                      Decline Crunch\n",
        "8                  Dumbbell Side Bend\n",
        "9                Exercise Ball Crunch\n",
        "10            Flat Straight Leg Raise\n",
        "11         Hanging Straight Leg Raise\n",
        "12                     Oblique Crunch\n",
        "13                    Weighted Sit-Up\n",
        "14    Alternate Hammer Dumbbell  Curl\n",
        "...\n",
        "1110              Barbell Curtsy Lunge\n",
        "1111             Dumbbell Curtsy Lunge\n",
        "1112                      Skater Squat\n",
        "1113            Overhead Barbell Shrug\n",
        "1114               Low Cable Crossover\n",
        "1115                Mixed Martial Arts\n",
        "1116               Cable Hip Abduction\n",
        "1117             Single Leg Calf Raise\n",
        "1118    Dumbbell Single Leg Calf Raise\n",
        "1119    One-Arm Dumbbell Preacher Curl\n",
        "1120                       Sotts Press\n",
        "1121    Suspension Trainer Chest Press\n",
        "1122          Suspension Trainer Squat\n",
        "1123                    Kneeling Squat\n",
        "1124                      Wrist Roller\n",
        "Name: name, Length: 1125, dtype: object"
       ]
      }
     ],
     "prompt_number": 7
    },
    {
     "cell_type": "markdown",
     "metadata": {},
     "source": [
      "## Workouts\n",
      "\n",
      "Now I'll try to request for all workouts I've tracked since last year. I used to track my jogs with Fitocracy but that more than a year back."
     ]
    },
    {
     "cell_type": "code",
     "collapsed": false,
     "input": [
      "from IPython.core.display import HTML\n",
      "\n",
      "def css_styling():\n",
      "    with open(\"styles.css\") as f:\n",
      "        return HTML(\"<style>%s</style>\" % f.read())\n",
      "css_styling()"
     ],
     "language": "python",
     "metadata": {},
     "outputs": [
      {
       "html": [
        "<style>@import url(\"//fonts.googleapis.com/css?family=Inconsolata:400,700|Abril+Fatface|Karla:400,400italic,700,700italic\");\n",
        "\n",
        ".menu-icon {\n",
        "  line-height: 20px;\n",
        "  position: static;\n",
        "  font-size: 20px !important;\n",
        "}\n",
        "\n",
        ".container {\n",
        "  font: 18px/1.5 Karla, sans-serif;\n",
        "  max-width: 40em;\n",
        "}\n",
        "\n",
        "h1, h2, h3, h4, h5, h6 {\n",
        "  font-family: Abril Fatface, serif;\n",
        "}\n",
        "\n",
        "h1 {\n",
        "  font-size: 400% !important;\n",
        "}\n",
        "\n",
        "pre, code {\n",
        "  font-family: Inconsolata, monospace !important;\n",
        "}\n",
        "</style>"
       ],
       "metadata": {},
       "output_type": "pyout",
       "prompt_number": 1,
       "text": [
        "<IPython.core.display.HTML at 0x10399f290>"
       ]
      }
     ],
     "prompt_number": 1
    },
    {
     "cell_type": "code",
     "collapsed": false,
     "input": [],
     "language": "python",
     "metadata": {},
     "outputs": []
    }
   ],
   "metadata": {}
  }
 ]
}